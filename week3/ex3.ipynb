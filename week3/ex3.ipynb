{
 "cells": [
  {
   "cell_type": "markdown",
   "metadata": {},
   "source": [
    "# Exercise session 3, Exercise 2\n",
    "\n",
    "This is a template for using the ASP solver [clingo](https://potassco.org/clingo/) to work out Exercise 2 for *Exercise session 3*.\n",
    "\n",
    "First, install clingo, e.g., using: `conda install -c potassco clingo`\n",
    "\n",
    "To use clingo in Python, import the clingo package."
   ]
  },
  {
   "cell_type": "code",
   "execution_count": 1,
   "metadata": {},
   "outputs": [],
   "source": [
    "import clingo"
   ]
  },
  {
   "cell_type": "markdown",
   "metadata": {},
   "source": [
    "## Exercise 2\n",
    "\n",
    "### Setting things up\n",
    "In the answer set program, we will use atoms of the form `finish(Person, Pos)` to represent whether `Person` finished in position `Pos`.\n",
    "\n",
    "Let's start by declaring some facts about which persons and which positions there are, using `person/1` and `position/1`."
   ]
  },
  {
   "cell_type": "code",
   "execution_count": 2,
   "metadata": {},
   "outputs": [],
   "source": [
    "asp_program = \"\"\"\n",
    "    % Declare the six persons\n",
    "    person(alex).\n",
    "    person(blake).\n",
    "    person(charlie).\n",
    "    person(dakota).\n",
    "    person(emerson).\n",
    "    person(frankie).\n",
    "    \n",
    "    % Declare the six positions\n",
    "    position(1..6).\n",
    "\"\"\""
   ]
  },
  {
   "cell_type": "markdown",
   "metadata": {},
   "source": [
    "Next, as a starting point, we generate all different ways in which they could have finished.\n",
    "\n",
    "The first step to do this is to make a binary choice for whether any given person finished in any given position."
   ]
  },
  {
   "cell_type": "code",
   "execution_count": 3,
   "metadata": {},
   "outputs": [],
   "source": [
    "asp_program += \"\"\"\n",
    "    finish(Person,Pos) :- not didnt_finish(Person,Pos), person(Person), position(Pos).\n",
    "    didnt_finish(Person,Pos) :- not finish(Person,Pos), person(Person), position(Pos).\n",
    "\"\"\""
   ]
  },
  {
   "cell_type": "markdown",
   "metadata": {},
   "source": [
    "This does not yet give us a program whose answer sets correspond to the different orderings.\n",
    "\n",
    "For example, we need to express that every person finished in some position."
   ]
  },
  {
   "cell_type": "code",
   "execution_count": 4,
   "metadata": {},
   "outputs": [],
   "source": [
    "asp_program += \"\"\"\n",
    "    finish_in_some_position(Person) :- person(Person), finish(Person,_).\n",
    "    :- not finish_in_some_position(Person), person(Person).\n",
    "\"\"\""
   ]
  },
  {
   "cell_type": "markdown",
   "metadata": {},
   "source": [
    "Since we are ultimately only interested in who finished in which position, we declare that we only want to see `finish/2` in the answer sets."
   ]
  },
  {
   "cell_type": "code",
   "execution_count": 5,
   "metadata": {},
   "outputs": [],
   "source": [
    "asp_program += \"\"\"\n",
    "    #show finish/2.\n",
    "\"\"\""
   ]
  },
  {
   "cell_type": "markdown",
   "metadata": {},
   "source": [
    "### Finish the program\n",
    "The answer set program is not finished yet. Complete the program by adding more facts/rules.\n",
    "\n",
    "For example, you should make sure that no two people finished in the same position.\n",
    "\n",
    "And you should express the knowledge that is given about the order in which they finished."
   ]
  },
  {
   "cell_type": "code",
   "execution_count": 6,
   "metadata": {},
   "outputs": [],
   "source": [
    "# TODO: finish the program"
   ]
  },
  {
   "cell_type": "markdown",
   "metadata": {},
   "source": [
    "### Finding the answer sets\n",
    "\n",
    "We can use clingo's Python API to find one or more answer sets.\n",
    "\n",
    "Here is a convenient function to print a given number of answer sets for a given program."
   ]
  },
  {
   "cell_type": "code",
   "execution_count": 7,
   "metadata": {},
   "outputs": [],
   "source": [
    "def print_answer_sets(program, num_answer_sets=0):\n",
    "    \n",
    "    # Load the answer set program, and call the grounder\n",
    "    control = clingo.Control(arguments=[\"--project\"])\n",
    "    control.add(\"base\", [], program)\n",
    "    control.ground([(\"base\", [])])\n",
    "    \n",
    "    # Define a function that will be called when an answer set is found\n",
    "    # This function sorts the answer set alphabetically, and prints it\n",
    "    def on_model(model):\n",
    "        sorted_model = [str(atom) for atom in model.symbols(shown=True)]\n",
    "        sorted_model.sort()\n",
    "        print(\"Answer set: {{{}}}\\n\".format(\", \".join(sorted_model)))\n",
    "    \n",
    "    # Ask clingo to find some number of models\n",
    "    # (using an upper bound of 0 gives all models)\n",
    "    control.configuration.solve.models = num_answer_sets\n",
    "    \n",
    "    # Call the clingo solver, passing on the function on_model for when an answer set is found\n",
    "    answer = control.solve(on_model=on_model)\n",
    "    \n",
    "    # Print a message when no answer set was found\n",
    "    if answer.satisfiable == False:\n",
    "        print(\"No answer sets\")"
   ]
  },
  {
   "cell_type": "markdown",
   "metadata": {},
   "source": [
    "For example, we can print three of the answer sets of our program as follows:"
   ]
  },
  {
   "cell_type": "code",
   "execution_count": 8,
   "metadata": {
    "scrolled": true
   },
   "outputs": [
    {
     "name": "stdout",
     "output_type": "stream",
     "text": [
      "Answer set: {finish(alex,1), finish(alex,2), finish(alex,3), finish(alex,4), finish(alex,5), finish(alex,6), finish(blake,1), finish(blake,2), finish(blake,3), finish(blake,4), finish(blake,5), finish(blake,6), finish(charlie,1), finish(charlie,2), finish(charlie,3), finish(charlie,4), finish(charlie,5), finish(charlie,6), finish(dakota,1), finish(dakota,2), finish(dakota,3), finish(dakota,4), finish(dakota,5), finish(dakota,6), finish(emerson,1), finish(emerson,2), finish(emerson,3), finish(emerson,4), finish(emerson,5), finish(emerson,6), finish(frankie,1), finish(frankie,2), finish(frankie,3), finish(frankie,4), finish(frankie,5), finish(frankie,6)}\n",
      "\n",
      "Answer set: {finish(alex,1), finish(alex,2), finish(alex,3), finish(alex,4), finish(alex,5), finish(blake,1), finish(blake,2), finish(blake,3), finish(blake,4), finish(blake,5), finish(blake,6), finish(charlie,1), finish(charlie,2), finish(charlie,3), finish(charlie,4), finish(charlie,5), finish(charlie,6), finish(dakota,1), finish(dakota,2), finish(dakota,3), finish(dakota,4), finish(dakota,5), finish(dakota,6), finish(emerson,1), finish(emerson,2), finish(emerson,3), finish(emerson,4), finish(emerson,5), finish(emerson,6), finish(frankie,1), finish(frankie,2), finish(frankie,3), finish(frankie,4), finish(frankie,5), finish(frankie,6)}\n",
      "\n",
      "Answer set: {finish(alex,1), finish(alex,2), finish(alex,3), finish(alex,4), finish(alex,5), finish(alex,6), finish(blake,1), finish(blake,2), finish(blake,3), finish(blake,4), finish(blake,5), finish(blake,6), finish(charlie,1), finish(charlie,2), finish(charlie,3), finish(charlie,4), finish(charlie,6), finish(dakota,1), finish(dakota,2), finish(dakota,3), finish(dakota,4), finish(dakota,5), finish(dakota,6), finish(emerson,1), finish(emerson,2), finish(emerson,3), finish(emerson,4), finish(emerson,5), finish(emerson,6), finish(frankie,1), finish(frankie,2), finish(frankie,3), finish(frankie,4), finish(frankie,5), finish(frankie,6)}\n",
      "\n"
     ]
    }
   ],
   "source": [
    "print_answer_sets(asp_program, num_answer_sets=3)"
   ]
  },
  {
   "cell_type": "markdown",
   "metadata": {},
   "source": [
    "Actually, we can also transform the answer sets to some other representation. For example, let's turn them into a list of pairs, that we can easily work with."
   ]
  },
  {
   "cell_type": "code",
   "execution_count": 9,
   "metadata": {},
   "outputs": [],
   "source": [
    "def extract_solutions(program, num_solutions=0):\n",
    "    \n",
    "    # Load the answer set program, and call the grounder\n",
    "    control = clingo.Control(arguments=[\"--project\"])\n",
    "    control.add(\"base\", [], program)\n",
    "    control.ground([(\"base\", [])])\n",
    "    \n",
    "    # This function transforms the answer set into a list of pairs\n",
    "    def answer_set_to_list(model):\n",
    "        output = []\n",
    "        for atom in model.symbols(shown=True):\n",
    "            if atom.name == \"finish\":\n",
    "                output.append((\n",
    "                    atom.arguments[0].name,\n",
    "                    atom.arguments[1].number\n",
    "                ))\n",
    "        return output\n",
    "                \n",
    "    # Ask clingo to find all models (using an upper bound of 0 gives all models)\n",
    "    control.configuration.solve.models = num_solutions\n",
    "    \n",
    "    # Call the clingo solver, transform each answer\n",
    "    return [answer_set_to_list(answer) for answer in control.solve(yield_=True)]  "
   ]
  },
  {
   "cell_type": "code",
   "execution_count": 10,
   "metadata": {
    "scrolled": true
   },
   "outputs": [
    {
     "name": "stdout",
     "output_type": "stream",
     "text": [
      "[('alex', 1), ('blake', 1), ('charlie', 1), ('dakota', 1), ('emerson', 1), ('frankie', 1), ('alex', 2), ('blake', 2), ('charlie', 2), ('dakota', 2), ('emerson', 2), ('frankie', 2), ('alex', 3), ('blake', 3), ('charlie', 3), ('dakota', 3), ('emerson', 3), ('frankie', 3), ('alex', 4), ('blake', 4), ('charlie', 4), ('dakota', 4), ('emerson', 4), ('frankie', 4), ('alex', 5), ('blake', 5), ('charlie', 5), ('dakota', 5), ('emerson', 5), ('frankie', 5), ('alex', 6), ('blake', 6), ('charlie', 6), ('dakota', 6), ('emerson', 6), ('frankie', 6)]\n",
      "\n",
      "[('alex', 1), ('blake', 1), ('charlie', 1), ('dakota', 1), ('emerson', 1), ('frankie', 1), ('alex', 2), ('blake', 2), ('charlie', 2), ('dakota', 2), ('emerson', 2), ('frankie', 2), ('alex', 3), ('blake', 3), ('charlie', 3), ('dakota', 3), ('emerson', 3), ('frankie', 3), ('alex', 4), ('blake', 4), ('charlie', 4), ('dakota', 4), ('emerson', 4), ('frankie', 4), ('alex', 5), ('blake', 5), ('charlie', 5), ('dakota', 5), ('emerson', 5), ('frankie', 5), ('blake', 6), ('charlie', 6), ('dakota', 6), ('emerson', 6), ('frankie', 6)]\n",
      "\n",
      "[('alex', 1), ('blake', 1), ('charlie', 1), ('dakota', 1), ('emerson', 1), ('frankie', 1), ('alex', 2), ('blake', 2), ('charlie', 2), ('dakota', 2), ('emerson', 2), ('frankie', 2), ('alex', 3), ('blake', 3), ('charlie', 3), ('dakota', 3), ('emerson', 3), ('frankie', 3), ('alex', 4), ('blake', 4), ('charlie', 4), ('dakota', 4), ('emerson', 4), ('frankie', 4), ('alex', 5), ('blake', 5), ('dakota', 5), ('emerson', 5), ('frankie', 5), ('alex', 6), ('blake', 6), ('charlie', 6), ('dakota', 6), ('emerson', 6), ('frankie', 6)]\n",
      "\n"
     ]
    }
   ],
   "source": [
    "for solution in extract_solutions(asp_program, num_solutions=3):\n",
    "    print(f\"{solution}\\n\")"
   ]
  },
  {
   "cell_type": "markdown",
   "metadata": {},
   "source": [
    "Or we can simply check if an answer set program has at least one answer set."
   ]
  },
  {
   "cell_type": "code",
   "execution_count": 11,
   "metadata": {},
   "outputs": [],
   "source": [
    "def has_answer_set(program):\n",
    "    control = clingo.Control(arguments=[\"--project\"])\n",
    "    control.add(\"base\", [], program)\n",
    "    control.ground([(\"base\", [])])\n",
    "        \n",
    "    control.configuration.solve.models = 1\n",
    "    answer = control.solve()\n",
    "    return answer.satisfiable"
   ]
  },
  {
   "cell_type": "markdown",
   "metadata": {},
   "source": [
    "### Finding answers to the questions\n",
    "\n",
    "After having represented the knowledge in ASP, let's now turn to answering the three (reasoning) questions about it:\n",
    "- Who finished in third place?\n",
    "- In what places could Dakota have finished?\n",
    "- Can we conclude that exactly one of Blake and Emerson finished in the top two?\n"
   ]
  },
  {
   "cell_type": "code",
   "execution_count": 12,
   "metadata": {},
   "outputs": [],
   "source": [
    "# TODO: use clingo to find the answers to the questions"
   ]
  }
 ],
 "metadata": {
  "kernelspec": {
   "display_name": "Python 3",
   "language": "python",
   "name": "python3"
  },
  "language_info": {
   "codemirror_mode": {
    "name": "ipython",
    "version": 3
   },
   "file_extension": ".py",
   "mimetype": "text/x-python",
   "name": "python",
   "nbconvert_exporter": "python",
   "pygments_lexer": "ipython3",
   "version": "3.7.7"
  }
 },
 "nbformat": 4,
 "nbformat_minor": 4
}
